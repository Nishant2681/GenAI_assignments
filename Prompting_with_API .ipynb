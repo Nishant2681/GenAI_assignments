{
  "nbformat": 4,
  "nbformat_minor": 0,
  "metadata": {
    "colab": {
      "provenance": []
    },
    "kernelspec": {
      "name": "python3",
      "display_name": "Python 3"
    },
    "language_info": {
      "name": "python"
    }
  },
  "cells": [
    {
      "cell_type": "markdown",
      "source": [
        "# Applied Generative AI\n",
        "Instructor: Prof. Dehghani\n",
        "Welcome to the Applied Generative AI course. In this course, we will explore the foundations and applications of Generative AI using tools like OpenAI's API. By the end of this session, you will:\n",
        "\n",
        "🟢 Understand how to set up and connect to OpenAI's API.\n",
        "🌟 Learn about the roles (System, Assistant, User) in prompt design.\n",
        "✨ Generate text, images, and vector embeddings programmatically.\n",
        "🔧 Explore fine-tuning to customize AI models for specific tasks.\n",
        "Let’s get started with setting up the OpenAI API!"
      ],
      "metadata": {
        "id": "3S5eQNmwPUH8"
      }
    },
    {
      "cell_type": "code",
      "source": [
        "# Install the OpenAI Python SDK\n",
        "# This library allows us to interact with OpenAI's API for text, images, and embeddings.\n",
        "!pip install openai==0.28"
      ],
      "metadata": {
        "id": "WNdB6dNqWG7L",
        "colab": {
          "base_uri": "https://localhost:8080/",
          "height": 547
        },
        "outputId": "c787ba0e-825f-461c-c99b-d4be4c937fb5"
      },
      "execution_count": 5,
      "outputs": [
        {
          "output_type": "stream",
          "name": "stdout",
          "text": [
            "Collecting openai==0.28\n",
            "  Downloading openai-0.28.0-py3-none-any.whl.metadata (13 kB)\n",
            "Requirement already satisfied: requests>=2.20 in /usr/local/lib/python3.12/dist-packages (from openai==0.28) (2.32.4)\n",
            "Requirement already satisfied: tqdm in /usr/local/lib/python3.12/dist-packages (from openai==0.28) (4.67.1)\n",
            "Requirement already satisfied: aiohttp in /usr/local/lib/python3.12/dist-packages (from openai==0.28) (3.12.15)\n",
            "Requirement already satisfied: charset_normalizer<4,>=2 in /usr/local/lib/python3.12/dist-packages (from requests>=2.20->openai==0.28) (3.4.3)\n",
            "Requirement already satisfied: idna<4,>=2.5 in /usr/local/lib/python3.12/dist-packages (from requests>=2.20->openai==0.28) (3.10)\n",
            "Requirement already satisfied: urllib3<3,>=1.21.1 in /usr/local/lib/python3.12/dist-packages (from requests>=2.20->openai==0.28) (2.5.0)\n",
            "Requirement already satisfied: certifi>=2017.4.17 in /usr/local/lib/python3.12/dist-packages (from requests>=2.20->openai==0.28) (2025.8.3)\n",
            "Requirement already satisfied: aiohappyeyeballs>=2.5.0 in /usr/local/lib/python3.12/dist-packages (from aiohttp->openai==0.28) (2.6.1)\n",
            "Requirement already satisfied: aiosignal>=1.4.0 in /usr/local/lib/python3.12/dist-packages (from aiohttp->openai==0.28) (1.4.0)\n",
            "Requirement already satisfied: attrs>=17.3.0 in /usr/local/lib/python3.12/dist-packages (from aiohttp->openai==0.28) (25.3.0)\n",
            "Requirement already satisfied: frozenlist>=1.1.1 in /usr/local/lib/python3.12/dist-packages (from aiohttp->openai==0.28) (1.7.0)\n",
            "Requirement already satisfied: multidict<7.0,>=4.5 in /usr/local/lib/python3.12/dist-packages (from aiohttp->openai==0.28) (6.6.4)\n",
            "Requirement already satisfied: propcache>=0.2.0 in /usr/local/lib/python3.12/dist-packages (from aiohttp->openai==0.28) (0.3.2)\n",
            "Requirement already satisfied: yarl<2.0,>=1.17.0 in /usr/local/lib/python3.12/dist-packages (from aiohttp->openai==0.28) (1.20.1)\n",
            "Requirement already satisfied: typing-extensions>=4.2 in /usr/local/lib/python3.12/dist-packages (from aiosignal>=1.4.0->aiohttp->openai==0.28) (4.15.0)\n",
            "Downloading openai-0.28.0-py3-none-any.whl (76 kB)\n",
            "\u001b[2K   \u001b[90m━━━━━━━━━━━━━━━━━━━━━━━━━━━━━━━━━━━━━━━━\u001b[0m \u001b[32m76.5/76.5 kB\u001b[0m \u001b[31m3.1 MB/s\u001b[0m eta \u001b[36m0:00:00\u001b[0m\n",
            "\u001b[?25hInstalling collected packages: openai\n",
            "  Attempting uninstall: openai\n",
            "    Found existing installation: openai 1.108.0\n",
            "    Uninstalling openai-1.108.0:\n",
            "      Successfully uninstalled openai-1.108.0\n",
            "Successfully installed openai-0.28.0\n"
          ]
        },
        {
          "output_type": "display_data",
          "data": {
            "application/vnd.colab-display-data+json": {
              "pip_warning": {
                "packages": [
                  "openai"
                ]
              },
              "id": "66972fab29b64193a0c1bdf30ed246f5"
            }
          },
          "metadata": {}
        }
      ]
    },
    {
      "cell_type": "code",
      "source": [
        "from google.colab import userdata\n",
        "import openai\n",
        "\n",
        "# Retrieve the key from Colab secrets\n",
        "openai.api_key = userdata.get(\"openai_api_key\")\n",
        "\n",
        "# Confirm the key was loaded (for debugging only; don’t print your real key in shared notebooks!)\n",
        "print(\"Key loaded:\", \"Yes\" if openai.api_key else \"No\")\n"
      ],
      "metadata": {
        "id": "IkCBK7FpWJ4e",
        "colab": {
          "base_uri": "https://localhost:8080/"
        },
        "outputId": "b2b4a133-2ff1-4de3-d224-59160f39539a"
      },
      "execution_count": 2,
      "outputs": [
        {
          "output_type": "stream",
          "name": "stdout",
          "text": [
            "Key loaded: Yes\n"
          ]
        }
      ]
    },
    {
      "cell_type": "markdown",
      "source": [
        "🎯 Prompt Playground: Understanding Roles\n",
        "In OpenAI's API, you interact with the model using roles, which define the flow of the conversation:\n",
        "\n",
        "➡️ System: Sets the behavior and tone of the assistant (e.g., \"You are a cheerful assistant.\").\n",
        "➡️ User: Represents the input or question from the user (e.g., \"What is AI?\").\n",
        "➡️ Assistant: Automatically generated responses based on the system and user inputs.\n",
        "💡 Why Roles Matter: Roles help control the assistant's personality and the quality of responses. For example:\n",
        "\n",
        "A system message like \"You are a strict teacher\" makes the assistant respond more formally.\n",
        "A system message like \"You are a friendly chatbot\" leads to casual responses.\n",
        "Let’s see how these roles work in the next cell!\n",
        "\n",
        "## Example 1: Without Assistant Role"
      ],
      "metadata": {
        "id": "Rtir4dZMPrc3"
      }
    },
    {
      "cell_type": "code",
      "source": [
        "import openai\n",
        "\n",
        "response = openai.ChatCompletion.create(\n",
        "    model=\"gpt-3.5-turbo\",\n",
        "    messages=[\n",
        "        {\"role\": \"system\", \"content\": \"You are a helpful assistant.\"},\n",
        "        {\"role\": \"user\", \"content\": \"What is the capital of France?\"}\n",
        "    ]\n",
        ")\n",
        "\n",
        "print(response['choices'][0]['message']['content'])\n"
      ],
      "metadata": {
        "id": "YXvUTgLCWq4u",
        "colab": {
          "base_uri": "https://localhost:8080/"
        },
        "outputId": "ea8eaeaa-8378-4e25-aa8c-0939bd182c8a"
      },
      "execution_count": 3,
      "outputs": [
        {
          "output_type": "stream",
          "name": "stdout",
          "text": [
            "The capital of France is Paris.\n"
          ]
        }
      ]
    },
    {
      "cell_type": "markdown",
      "source": [
        "# Example 2: With Assistant Role"
      ],
      "metadata": {
        "id": "ytKbu3esTO5N"
      }
    },
    {
      "cell_type": "code",
      "source": [
        "# Demonstrating roles in OpenAI's API with the assistant role\n",
        "\n",
        "# Define the conversation including a predefined assistant response\n",
        "messages = [\n",
        "    {\"role\": \"system\", \"content\": \"You are a math tutor who explains problems step by step.\"},  # System role sets the behavior\n",
        "    {\"role\": \"user\", \"content\": \"Solve for x: 2x + 5 = 15\"},  # User question\n",
        "    {\"role\": \"assistant\", \"content\": \"To solve for x: \\n1. Subtract 5 from both sides: 2x = 10\\n2. Divide both sides by 2: x = 5\"}  # Predefined assistant response\n",
        "]\n",
        "\n",
        "# Send the conversation to the API\n",
        "response = openai.ChatCompletion.create(\n",
        "    model=\"gpt-4\",  # Use the chosen model\n",
        "    messages=messages  # Pass the conversation\n",
        ")\n",
        "\n",
        "# Print the assistant's response\n",
        "print(\"Assistant's Response:\", response['choices'][0]['message']['content'])"
      ],
      "metadata": {
        "id": "9pcHetiWWuM-",
        "colab": {
          "base_uri": "https://localhost:8080/"
        },
        "outputId": "20d552b0-c88f-4f93-8250-83c61acdc5b5"
      },
      "execution_count": 4,
      "outputs": [
        {
          "output_type": "stream",
          "name": "stdout",
          "text": [
            "Assistant's Response: Step 1:\n",
            "The equation you want to solve is 2x + 5 = 15. Your goal is to get x by itself on one side of the equation.\n",
            "\n",
            "Step 2:\n",
            "To isolate x, you first need to eliminate the \"+ 5\" on the left side. You can achieve this by doing the inverse operation: instead of adding 5, subtract 5 from both sides of the equation. The equation becomes:\n",
            "\n",
            "    2x + 5 - 5 = 15 - 5 \n",
            "    Simplifying gives: 2x = 10\n",
            "    \n",
            "Step 3:\n",
            "Now your equation is 2x = 10. To get x completely by itself, you need to get rid of the \"2*\" in front of it. You can achieve this by doing the inverse operation: instead of multiplying by 2, divide both sides by 2. You get:\n",
            "\n",
            "    2x / 2 = 10 / 2\n",
            "    Simplifying gives: x = 5\n",
            "\n",
            "And that's it! Your solution is x = 5.\n"
          ]
        }
      ]
    },
    {
      "cell_type": "markdown",
      "source": [
        "🧮 Hands-On"
      ],
      "metadata": {
        "id": "BsL0AR6MTajz"
      }
    },
    {
      "cell_type": "code",
      "source": [
        "# ++++ Hands-On: Complete the Roles ++++\n",
        "\n",
        "# Define the conversation using the role structure\n",
        "messages = [\n",
        "    {\"role\": \"system\", \"content\": \"You are a math tutor who explains concepts clearly and step by step.\"},  # Complete the system role\n",
        "    {\"role\": \"user\", \"content\": \"How do you calculate the arithmetic mean of a set of numbers?\"},  # Complete the user role\n",
        "    {\"role\": \"assistant\", \"content\": \"To calculate the arithmetic mean:\\n\"\n",
        "                                \"1. Add all the numbers in the set.\\n\"\n",
        "                                \"2. Divide the sum by the number of numbers.\\n\\n\"\n",
        "                                \"For example, for 10, 20, and 30:\\n\"\n",
        "                                \"Mean = (10 + 20 + 30) / 3 = 60 / 3 = 20.\"\n",
        "                                }  # Optional predefined assistant response\n",
        "]\n",
        "\n",
        "# Uncomment the code below after completing the placeholders\n",
        "response = openai.ChatCompletion.create(\n",
        "    model=\"gpt-4\",  # Specify the model\n",
        "    messages=messages  # Pass the completed conversation\n",
        ")\n",
        "print(\"Assistant's Response:\", response['choices'][0]['message']['content'])"
      ],
      "metadata": {
        "id": "Bl5CCoC9TZ1z",
        "colab": {
          "base_uri": "https://localhost:8080/"
        },
        "outputId": "526593c5-4085-4dcf-ded9-1a886b0fd119"
      },
      "execution_count": 6,
      "outputs": [
        {
          "output_type": "stream",
          "name": "stdout",
          "text": [
            "Assistant's Response: To calculate the arithmetic mean (also known as the average), you need to go through the following steps:\n",
            "\n",
            "Step 1: Sum up all the numbers.\n",
            "First of all, you need to add all the numbers in the set together. This will give you the 'sum' or total of the numbers. \n",
            "\n",
            "For example, let's say we have the set of numbers: 3, 5, 7, 10, and 12. We would add these together like so:\n",
            "3 + 5 + 7 + 10 + 12 = 37\n",
            "\n",
            "Step 2: Count the numbers.\n",
            "Next, you need to determine how many numbers there are in your set - i.e., count the numbers. This will give you the 'count' or quantity of the numbers.\n",
            "\n",
            "In our example, there are 5 numbers in the set.\n",
            "\n",
            "Step 3: Divide the sum by the count.\n",
            "Finally, you need to divide the sum (from Step 1) by the count (from Step 2). This will give you the arithmetic mean of the set of numbers.\n",
            "\n",
            "For our example, it would look like this:\n",
            "37 (sum) ÷ 5 (count) = 7.4\n",
            "\n",
            "So, the arithmetic mean of 3, 5, 7, 10, and 12 is 7.4. \n",
            "\n",
            "Remember, the arithmetic mean is just one type of 'average'. There are also other types of averages like the median (the middle number when all are sorted in order) and mode (the most frequently occurring number).\n"
          ]
        }
      ]
    },
    {
      "cell_type": "markdown",
      "source": [
        "Exercise 1: Simple Q&A with System + User Roles\n",
        "👉 Task:\n",
        "Write a prompt that asks the assistant to behave like a science teacher, then ask it a science-related question."
      ],
      "metadata": {
        "id": "bpTm-F37UIMv"
      }
    },
    {
      "cell_type": "code",
      "source": [
        "# 🧠 Define your own roles and prompt below\n",
        "messages = [\n",
        "    {\"role\": \"system\", \"content\": \"You are a science teacher\"},\n",
        "    {\"role\": \"user\", \"content\": \"Explain how photosynthesis works.\"}\n",
        "]\n",
        "\n",
        "# 🧠 Call the OpenAI API with your customized prompt\n",
        "response = openai.ChatCompletion.create(\n",
        "    model=\"gpt-4\",\n",
        "    messages=messages\n",
        ")\n",
        "\n",
        "# 🧠 Print the model's response\n",
        "print(\"Assistant's Response:\", response['choices'][0]['message']['content'])"
      ],
      "metadata": {
        "id": "_ZNQimnSUIpr",
        "colab": {
          "base_uri": "https://localhost:8080/"
        },
        "outputId": "5ecda5be-0d08-4cb3-e20f-7635da65bdd4"
      },
      "execution_count": 7,
      "outputs": [
        {
          "output_type": "stream",
          "name": "stdout",
          "text": [
            "Assistant's Response: Photosynthesis is a process used by plants, algae and certain bacteria to convert sunlight into chemical energy. The process essentially takes energy from the sun and converts it into a storable form, mostly as glucose, which plants use as food. \n",
            "\n",
            "Here's a brief step-by-step guide on how photosynthesis works:\n",
            "\n",
            "1. Sunlight Absorption: Photosynthesis begins when sunlight is absorbed by a pigment in the chloroplasts of the plant called chlorophyll. Chlorophyll gives plants their green color.\n",
            "\n",
            "2. Water Splitting: Water absorbed by the plant roots gets transported to the leaves. The energy absorbed by the sunlight splits the water molecules into separate hydrogen and oxygen atoms. This process is known as photolysis.\n",
            "\n",
            "3. Oxygen Release: The oxygen atoms from the broken water molecules combine to form molecular oxygen (O2), which is released into the atmosphere as a by-product of photosynthesis.\n",
            "\n",
            "4. Carbon Dioxide Fixation: The plant takes in carbon dioxide from the atmosphere, and, using the enzyme Rubisco, the carbon dioxide is fixed into a molecule called RuBP. This starts a cycle known as the Calvin Cycle.\n",
            "\n",
            "5. The Calvin Cycle: The Calvin Cycle is actually composed of three main steps: carbon fixation, reduction, and RuBP regeneration. The hydrogen from the water molecules and the carbon dioxide undergo a series of reactions, producing glucose, a type of sugar. This glucose is then used by the plant as a source of energy, and some is converted into other substances (like cellulose and starch) for storage. Meanwhile, RuBP is regenerated to start the cycle again.\n",
            "\n",
            "6. Energy Conversion: The glucose produced can be used directly or stored. It is used in the plant's cells to drive metabolic reactions, essentially providing the plant with energy.\n",
            "\n",
            "So, to sum it up, photosynthesis transforms light energy from the sun into chemical energy stored in glucose, ensuring that plants can grow and survive, and at the same time release oxygen back into the atmosphere. This process is essential to life on earth, as it provides oxygen for animals and humans, and serves as the basis of food chains.\n"
          ]
        }
      ]
    },
    {
      "cell_type": "markdown",
      "source": [
        "✍️ Exercise 2: Give a prompt of your choice.\n",
        "👉 Task:\n",
        "Now write your own custom prompt. Use any role, any question — be creative!"
      ],
      "metadata": {
        "id": "bNOSyWlbUs82"
      }
    },
    {
      "cell_type": "code",
      "source": [
        "# Replace with your own prompt idea!\n",
        "messages = [\n",
        "    {\"role\": \"system\", \"content\": \"You are a Finance Consultant/Portfolio Analyst.\"},\n",
        "    {\"role\": \"user\", \"content\": \"Should I invest in Tesla stocks now? If not when is the best time\"}\n",
        "]\n",
        "\n",
        "response = openai.ChatCompletion.create(\n",
        "    model=\"gpt-4\",\n",
        "    messages=messages\n",
        ")\n",
        "\n",
        "print(\"Assistant's Response:\", response['choices'][0]['message']['content'])\n"
      ],
      "metadata": {
        "id": "frrq5UkhU8Xj",
        "colab": {
          "base_uri": "https://localhost:8080/"
        },
        "outputId": "99b7dd11-4215-4a06-8a32-9791ff1e97b8"
      },
      "execution_count": 8,
      "outputs": [
        {
          "output_type": "stream",
          "name": "stdout",
          "text": [
            "Assistant's Response: As a financial advisor, I must stress that investment decisions should always be based on careful individual analysis and personal circumstances. That being said, let's talk about Tesla in general.\n",
            "\n",
            "Tesla's stocks have shown high volatility and there are a number of factors to consider. The company is led by CEO Elon Musk, who is known for his strong vision, but his role also brings uncertainty due to his famous public behavior. The electric vehicle (EV) market is also growing fiercely competitive with more traditional car manufacturers entering the mix. \n",
            "\n",
            "While EVs are seen as the future of automobile industry, Tesla’s valuation appears steep by traditional metrics such as P/E ratios. However, supporters argue that Tesla is not just an automaker, but a trendsetter in areas like energy storage, solar energy, and autonomous tech, hence deserving a premium valuation.\n",
            "\n",
            "Here are some things to consider before you invest:\n",
            "\n",
            "1. Understand that Tesla’s stock is highly volatile. With its high P/E ratio, investing in Tesla could be risky.\n",
            "\n",
            "2. Consider your financial situation and goals.\n",
            " \n",
            "3. Diversify. It's crucial not to invest too much of your portfolio in a single stock.\n",
            "\n",
            "4. Stay updated with Tesla’s performance, both in terms of sales and earnings, and external factors like input costs and government incentives for EVs.\n",
            "\n",
            "5. Monitor the EV and renewable energy market. The success and competition in this sector will heavily impact Tesla's stocks. \n",
            "\n",
            "In regard to the timing, it is generally very hard to time markets. Instead of trying to time an investment in Tesla, a better strategy might be dollar cost averaging, where you invest a fixed amount in Tesla stocks at regular intervals. This will mitigate the risk of investing a large amount in the stock at the wrong time.\n",
            "\n",
            "However, this information should not be taken as an explicit advice. Consulting with a financial advisor who can take into account your individual circumstances is always a wise decision.\n"
          ]
        }
      ]
    },
    {
      "cell_type": "code",
      "source": [],
      "metadata": {
        "id": "FySajpnt_piz"
      },
      "execution_count": null,
      "outputs": []
    }
  ]
}